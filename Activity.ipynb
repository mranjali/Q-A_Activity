{
 "cells": [
  {
   "cell_type": "code",
   "execution_count": 1,
   "id": "57a002d1",
   "metadata": {},
   "outputs": [
    {
     "name": "stdout",
     "output_type": "stream",
     "text": [
      "Enter the side of the equilateral triangle: 4\n",
      "Area = 6.928203230275509\n"
     ]
    }
   ],
   "source": [
    "import math\n",
    "side = float(input(\"Enter the side of the equilateral triangle: \"))\n",
    "area = ((math.sqrt(3))/4)*pow(side,2)\n",
    "print(\"Area =\",area)"
   ]
  },
  {
   "cell_type": "code",
   "execution_count": 2,
   "id": "7e4b2e4f",
   "metadata": {},
   "outputs": [
    {
     "name": "stdout",
     "output_type": "stream",
     "text": [
      "Enter the string : hello\n"
     ]
    },
    {
     "data": {
      "text/plain": [
       "5"
      ]
     },
     "execution_count": 2,
     "metadata": {},
     "output_type": "execute_result"
    }
   ],
   "source": [
    "enter=str(input(\"Enter the string : \"))\n",
    "len(enter)"
   ]
  },
  {
   "cell_type": "code",
   "execution_count": 3,
   "id": "26d880e5",
   "metadata": {},
   "outputs": [
    {
     "name": "stdout",
     "output_type": "stream",
     "text": [
      "Enter length of the rectangle : 8\n",
      "Enter breadth of the rectangle : 6\n",
      "Area of Rectangle: 48\n",
      "Perimeter of rectangle: 28\n"
     ]
    }
   ],
   "source": [
    "l=int(input(\"Enter length of the rectangle : \"))\n",
    "b=int(input(\"Enter breadth of the rectangle : \"))\n",
    "def Area(l,b):\n",
    " return l*b\n",
    "def Perimeter(l,b):\n",
    " return 2*(l+b)\n",
    "print(\"Area of Rectangle:\",Area(l,b))\n",
    "print(\"Perimeter of rectangle:\",Perimeter(l,b))\n"
   ]
  },
  {
   "cell_type": "code",
   "execution_count": 11,
   "id": "586c9c7b",
   "metadata": {},
   "outputs": [
    {
     "name": "stdout",
     "output_type": "stream",
     "text": [
      "Enter the limit of fibonacci series you want :9\n",
      "0\n",
      "1\n",
      "1\n",
      "2\n",
      "3\n",
      "5\n",
      "8\n",
      "13\n",
      "21\n"
     ]
    }
   ],
   "source": [
    "def fib(n):\n",
    "    if n<=1:\n",
    "        return n\n",
    "    else:\n",
    "        return fib(n-1)+fib(n-2)\n",
    "limit=int(input(\"Enter the limit of fibonacci series you want :\"))\n",
    "if limit<=0:\n",
    "    print(\"Please enter positive integer and run..\")\n",
    "else:\n",
    "    for i in range(limit):\n",
    "        print(fib(i))"
   ]
  },
  {
   "cell_type": "code",
   "execution_count": 12,
   "id": "58d96406",
   "metadata": {},
   "outputs": [
    {
     "name": "stdout",
     "output_type": "stream",
     "text": [
      "Enter three numbers followed by  : 3 -11 12\n",
      "First number : 3\n",
      "Second number : -11\n",
      "Third number : 12\n",
      "-11  is smallest\n"
     ]
    }
   ],
   "source": [
    "a,b,c = input(\"Enter three numbers followed by  : \").split()\n",
    "print(\"First number :\",a)\n",
    "print(\"Second number :\",b)\n",
    "print(\"Third number :\",c)\n",
    "\n",
    "if(a==b==c):\n",
    "     print(\"Entered numbers are equal!!!\")\n",
    "else:\n",
    "    if (a<b and a<c):\n",
    "        print(a,\" is smallest\")\n",
    "    elif b<c:\n",
    "        print(b,\" is smallest\")\n",
    "    else:\n",
    "        print(c,\" is smallest\")"
   ]
  },
  {
   "cell_type": "code",
   "execution_count": 13,
   "id": "6d1007c9",
   "metadata": {},
   "outputs": [
    {
     "name": "stdout",
     "output_type": "stream",
     "text": [
      "Enter the number of row in star Pyramid : 6\n",
      "      * \n",
      "     * * \n",
      "    * * * \n",
      "   * * * * \n",
      "  * * * * * \n",
      " * * * * * * \n"
     ]
    }
   ],
   "source": [
    "rows=int(input(\"Enter the number of row in star Pyramid : \"))\n",
    "for i in range(0,rows):\n",
    "    for j in range(0,rows-i-1):\n",
    "        print(' ',end='')\n",
    "    for j in range(0,i+1):\n",
    "        print(' *',end='')\n",
    "    print(' ')"
   ]
  },
  {
   "cell_type": "code",
   "execution_count": 14,
   "id": "cc1df7d7",
   "metadata": {},
   "outputs": [
    {
     "name": "stdout",
     "output_type": "stream",
     "text": [
      "Enter time in hours, I will tell in seconds :12\n",
      "12  Hour is equal to 43200  Seconds\n"
     ]
    }
   ],
   "source": [
    "def to_seconds(t):\n",
    "    t=t*60*60\n",
    "    return t\n",
    "time_in_hours = int(input(\"Enter time in hours, I will tell in seconds :\"))\n",
    "print(time_in_hours ,\" Hour is equal to\" ,to_seconds(time_in_hours) ,\" Seconds\")"
   ]
  },
  {
   "cell_type": "code",
   "execution_count": 15,
   "id": "0ba1eb4f",
   "metadata": {},
   "outputs": [
    {
     "name": "stdout",
     "output_type": "stream",
     "text": [
      "\n",
      "Enter a number to find multiplication table : 4\n",
      "1 * 4 = 4\n",
      "2 * 4 = 8\n",
      "3 * 4 = 12\n",
      "4 * 4 = 16\n",
      "5 * 4 = 20\n",
      "6 * 4 = 24\n",
      "7 * 4 = 28\n",
      "8 * 4 = 32\n",
      "9 * 4 = 36\n",
      "10 * 4 = 40\n"
     ]
    }
   ],
   "source": [
    "number=int(input('\\nEnter a number to find multiplication table : '))\n",
    "def multiply(n):\n",
    "    for i in range(1,11):\n",
    "        print(i,'*',n,'=',i*n)\n",
    "multiply(number)  "
   ]
  },
  {
   "cell_type": "code",
   "execution_count": 17,
   "id": "6b0fbe67",
   "metadata": {},
   "outputs": [
    {
     "name": "stdout",
     "output_type": "stream",
     "text": [
      "Enter your five favorite food list followed by space :\n",
      "Biriyani\n",
      "Apple\n",
      "Orange\n",
      "Grape\n",
      "Guva\n",
      "['Biriyani', 'Apple', 'Orange', 'Grape', 'Guva']\n",
      "I like  Biriyani\n",
      "I like  Apple\n",
      "I like  Orange\n",
      "I like  Grape\n",
      "I like  Guva\n"
     ]
    }
   ],
   "source": [
    "fav_food=[]\n",
    "print('Enter your five favorite food list followed by space :')\n",
    "for i in range(0,5):\n",
    "     fav_food.append(input())\n",
    "print(fav_food)\n",
    "print(\"I like \",fav_food[0])\n",
    "print(\"I like \",fav_food[1])\n",
    "print(\"I like \",fav_food[2])\n",
    "print(\"I like \",fav_food[3])\n",
    "print(\"I like \",fav_food[4])"
   ]
  },
  {
   "cell_type": "code",
   "execution_count": 18,
   "id": "20b48e76",
   "metadata": {},
   "outputs": [
    {
     "name": "stdout",
     "output_type": "stream",
     "text": [
      "Enter value of x:4\n",
      "They are unequal\n",
      "They are unequal\n",
      "They are unequal\n",
      "They are unequal\n",
      "They are equal\n",
      "They are unequal\n",
      "They are unequal\n",
      "They are unequal\n",
      "They are unequal\n",
      "They are unequal\n"
     ]
    }
   ],
   "source": [
    "x= int(input(\"Enter value of x:\"))\n",
    "for y in range(0,10):\n",
    "     if x==y:\n",
    "          print(\"They are equal\")\n",
    "     else:\n",
    "         print( \"They are unequal\")"
   ]
  },
  {
   "cell_type": "code",
   "execution_count": null,
   "id": "698a3b41",
   "metadata": {},
   "outputs": [],
   "source": []
  }
 ],
 "metadata": {
  "kernelspec": {
   "display_name": "Python 3",
   "language": "python",
   "name": "python3"
  },
  "language_info": {
   "codemirror_mode": {
    "name": "ipython",
    "version": 3
   },
   "file_extension": ".py",
   "mimetype": "text/x-python",
   "name": "python",
   "nbconvert_exporter": "python",
   "pygments_lexer": "ipython3",
   "version": "3.8.8"
  },
  "widgets": {
   "application/vnd.jupyter.widget-state+json": {
    "state": {},
    "version_major": 2,
    "version_minor": 0
   }
  }
 },
 "nbformat": 4,
 "nbformat_minor": 5
}
